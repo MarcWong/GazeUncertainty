{
 "cells": [
  {
   "cell_type": "code",
   "execution_count": 1,
   "metadata": {},
   "outputs": [],
   "source": [
    "import numpy as np\n",
    "import sys,os\n",
    "sys.path.append(\"..\")\n",
    "from glob import glob\n",
    "from shutil import rmtree\n",
    "import pandas as pd\n",
    "from natsort import natsorted\n",
    "import json"
   ]
  },
  {
   "cell_type": "code",
   "execution_count": 19,
   "metadata": {},
   "outputs": [
    {
     "name": "stdout",
     "output_type": "stream",
     "text": [
      "105089 155890\n",
      "0.5538067733064355\n",
      "0.8985630893578805\n"
     ]
    }
   ],
   "source": [
    "def vistype(desc: pd.Series):\n",
    "    visname = desc.strip('.png')\n",
    "    visname = visname.strip('.jpg')\n",
    "    json_file = os.path.join('/netpool/homes/wangyo/Dataset/VisQA/merged/qa', visname + '.json')\n",
    "    json_file = open(json_file)\n",
    "    visjson = json.load(json_file)\n",
    "    json_file.close()\n",
    "    return visjson['vistype']\n",
    "\n",
    "\n",
    "base_path = '/netpool/homes/wangyo/Dataset/VisQA/eyetracking/Results'\n",
    "subjects_path = glob(os.path.join(\n",
    "    f\"{base_path}/*/\", \"*\", \"\"))\n",
    "subjects_path = [os.path.abspath(path) for path in subjects_path]\n",
    "\n",
    "good_sum = 0\n",
    "good_true = 0\n",
    "bad_sum = 0\n",
    "bad_true = 0\n",
    "for path in subjects_path:\n",
    "    pname = path.split('/')[-1]\n",
    "    fgood = f\"{path}/{pname}_images_with_fixations_and_elems_enlarge_0.csv\"\n",
    "    #fgood = f\"{path}/{pname}_images_with_fixations_and_elems_enlarge_0.5degree.csv\"\n",
    "    fbad = f\"{path}/{pname}_images_with_fixations_and_elems_enlarge_0.1degree.csv\"\n",
    "    if(not os.path.exists(fgood) or not os.path.exists(fbad)): continue\n",
    "    tmp_good=pd.read_csv(fgood)\n",
    "    tmp_bad=pd.read_csv(fbad)\n",
    "    tmp_good = tmp_good[tmp_good['stage'] == 'enc']\n",
    "    tmp_bad = tmp_bad[tmp_bad['stage'] == 'enc']\n",
    "\n",
    "    # apply the vistype\n",
    "    #tmp_good['image_name'] = tmp_good['image_name'].apply(vistype)\n",
    "    #tmp_good = tmp_good[tmp_good['image_name'] == 'scatter']\n",
    "    #tmp_bad['image_name'] = tmp_bad['image_name'].apply(vistype)\n",
    "    #tmp_bad = tmp_bad[tmp_bad['image_name'] == 'scatter']\n",
    "\n",
    "\n",
    "    gtrue = (tmp_good['contains']==True).sum()\n",
    "    gfalse = (tmp_good['contains']==False).sum()\n",
    "    btrue = (tmp_bad['contains']==True).sum()\n",
    "    bfalse = (tmp_bad['contains']==False).sum()\n",
    "    good_sum += gtrue\n",
    "    good_sum += gfalse\n",
    "    good_true += gtrue\n",
    "    bad_sum += btrue\n",
    "    bad_sum += bfalse\n",
    "    bad_true += btrue\n",
    "    \n",
    "\n",
    "print(good_sum, bad_sum)\n",
    "print(good_true/good_sum)\n",
    "print(bad_true/bad_sum)"
   ]
  },
  {
   "cell_type": "code",
   "execution_count": 35,
   "metadata": {},
   "outputs": [
    {
     "data": {
      "text/plain": [
       "0.10033467208545055"
      ]
     },
     "execution_count": 35,
     "metadata": {},
     "output_type": "execute_result"
    }
   ],
   "source": [
    "np.tan(0.1)"
   ]
  },
  {
   "cell_type": "markdown",
   "metadata": {},
   "source": [
    "# AVG\n",
    "## 0, 1.25, 2.5, 3.75, 5, 6.25, 7.5, 8.75, 10\n",
    "### 0.55, 0.60, 0.65, 0.69, 0.73, 0.76, 0.79, 0.81, 0.84"
   ]
  },
  {
   "cell_type": "markdown",
   "metadata": {},
   "source": [
    "# Scatter\n",
    "## 0, 1.25, 2.5, 3.75, 5, 6.25, 7.5, 8.75, 10\n",
    "### 0.46, 0.51, 0.57, 0.62, 0.67, 0.72, 0.76, 0.79, 0.82"
   ]
  },
  {
   "cell_type": "markdown",
   "metadata": {},
   "source": [
    "# line\n",
    "## 0, 1.25, 2.5, 3.75, 5, 6.25, 7.5, 8.75, 10\n",
    "### 0.41, 0.45, 0.50, 0.54, 0.59, 0.62, 0.66, 0.69, 0.72"
   ]
  },
  {
   "cell_type": "markdown",
   "metadata": {},
   "source": [
    "# bar\n",
    "## 0, 1.25, 2.5, 3.75, 5, 6.25, 7.5, 8.75, 10\n",
    "### 0.56,0.60, 0.66, 0.71, 0.75, 0.78, 0.81, 0.83, 0.86"
   ]
  },
  {
   "cell_type": "markdown",
   "metadata": {},
   "source": [
    "# pie\n",
    "## 0, 1.25, 2.5, 3.75, 5, 6.25, 7.5, 8.75, 10\n",
    "### 0.64, 0.66, 0.68, 0.71, 0.73, 0.75, 0.77, 0.79, 0.80"
   ]
  },
  {
   "cell_type": "code",
   "execution_count": null,
   "metadata": {},
   "outputs": [],
   "source": []
  }
 ],
 "metadata": {
  "kernelspec": {
   "display_name": "Python 3 (ipykernel)",
   "language": "python",
   "name": "python3"
  },
  "language_info": {
   "codemirror_mode": {
    "name": "ipython",
    "version": 3
   },
   "file_extension": ".py",
   "mimetype": "text/x-python",
   "name": "python",
   "nbconvert_exporter": "python",
   "pygments_lexer": "ipython3",
   "version": "3.7.11"
  }
 },
 "nbformat": 4,
 "nbformat_minor": 4
}
