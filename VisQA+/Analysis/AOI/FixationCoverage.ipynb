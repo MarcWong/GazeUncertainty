{
 "cells": [
  {
   "cell_type": "code",
   "execution_count": 25,
   "metadata": {},
   "outputs": [],
   "source": [
    "import numpy as np\n",
    "import sys,os\n",
    "sys.path.append(\"..\")\n",
    "from glob import glob\n",
    "from shutil import rmtree\n",
    "import pandas as pd\n",
    "from natsort import natsorted"
   ]
  },
  {
   "cell_type": "code",
   "execution_count": 27,
   "metadata": {},
   "outputs": [
    {
     "name": "stdout",
     "output_type": "stream",
     "text": [
      "167067 165557\n",
      "0.7043521461449598\n",
      "0.6966362038452013\n"
     ]
    }
   ],
   "source": [
    "base_path = '/netpool/homes/wangyo/Dataset/VisQA/eyetracking/Results'\n",
    "subjects_path = glob(os.path.join(\n",
    "    f\"{base_path}/*/\", \"*\", \"\"))\n",
    "subjects_path = [os.path.abspath(path) for path in subjects_path]\n",
    "\n",
    "good_sum = 0\n",
    "good_true = 0\n",
    "bad_sum = 0\n",
    "bad_true = 0\n",
    "for path in subjects_path:\n",
    "    pname = path.split('/')[-1]\n",
    "    fgood = f\"{path}/{pname}_images_with_fixations_and_elems.csv\"\n",
    "    fbad = f\"{path}/{pname}_images_with_fixations_and_elems_bad.csv\"\n",
    "    if(not os.path.exists(fgood) or not os.path.exists(fbad)): continue\n",
    "    tmp_good=pd.read_csv(fgood)\n",
    "    tmp_bad=pd.read_csv(fbad)\n",
    "    gtrue = (tmp_good['contains']==True).sum()\n",
    "    gfalse = (tmp_good['contains']==False).sum()\n",
    "    btrue = (tmp_bad['contains']==True).sum()\n",
    "    bfalse = (tmp_bad['contains']==False).sum()\n",
    "    good_sum += gtrue\n",
    "    good_sum += gfalse\n",
    "    good_true += gtrue\n",
    "    bad_sum += btrue\n",
    "    bad_sum += bfalse\n",
    "    bad_true += btrue\n",
    "\n",
    "print(good_sum, bad_sum)\n",
    "print(good_true/good_sum)\n",
    "print(bad_true/bad_sum)"
   ]
  },
  {
   "cell_type": "code",
   "execution_count": null,
   "metadata": {},
   "outputs": [],
   "source": []
  }
 ],
 "metadata": {
  "kernelspec": {
   "display_name": "Python 3",
   "language": "python",
   "name": "python3"
  },
  "language_info": {
   "codemirror_mode": {
    "name": "ipython",
    "version": 3
   },
   "file_extension": ".py",
   "mimetype": "text/x-python",
   "name": "python",
   "nbconvert_exporter": "python",
   "pygments_lexer": "ipython3",
   "version": "3.7.9"
  }
 },
 "nbformat": 4,
 "nbformat_minor": 4
}
