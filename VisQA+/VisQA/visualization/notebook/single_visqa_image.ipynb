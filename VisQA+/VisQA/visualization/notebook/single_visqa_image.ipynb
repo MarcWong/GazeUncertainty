{
 "cells": [
  {
   "cell_type": "code",
   "execution_count": 1,
   "metadata": {},
   "outputs": [
    {
     "name": "stdout",
     "output_type": "stream",
     "text": [
      "imname economist_daily_chart_20\n"
     ]
    }
   ],
   "source": [
    "\n",
    "import numpy as np\n",
    "import sys,os\n",
    "sys.path.append(\"..\") \n",
    "from glob import glob\n",
    "from PIL import Image\n",
    "import matplotlib.pyplot as plt\n",
    "from shutil import rmtree\n",
    "import pandas as pd\n",
    "from natsort import natsorted\n",
    "from visualization_utils import plot_visualization, plot_img\n",
    "from preprocess_utils_single import get_gt_elements\n",
    "\n",
    "DPI=144\n",
    "\n",
    "\n",
    "imname = 'economist_daily_chart_20'\n",
    "print('imname',imname)\n",
    "\n",
    "elementCoords, elementX, elementY, boxes = get_gt_elements(imname)\n",
    "\n"
   ]
  },
  {
   "cell_type": "code",
   "execution_count": 2,
   "metadata": {},
   "outputs": [],
   "source": [
    "# load the raw image\n",
    "with Image.open(os.path.join(r'C:\\Users\\karth\\Desktop\\Karthik\\HCI_Lab\\VisQA\\hit_groups\\3', imname+'.png')) as im:\n",
    "    width, height = im.size # original image size\n",
    "    \n",
    "    fixations = pd.read_csv(r'C:\\Users\\karth\\Desktop\\Karthik\\HCI_Lab\\group4\\Visualisation\\Cross_fixations\\economist_daily_chart_20.png.csv',header=None)\n",
    "    x=[]\n",
    "    y=[]\n",
    "    duration=[]\n",
    "    for row in fixations.iterrows():\n",
    "        x.append(row[1][1])\n",
    "        y.append(row[1][2])\n",
    "        duration.append(row[1][3])\n",
    "    x.remove('axp')\n",
    "    y.remove('ayp')\n",
    "    duration.remove('dur')\n",
    "    x = [float(i) for i in x]\n",
    "    y = [float(i) for i in y]\n",
    "    duration = [float(i) for i in duration]\n",
    "    fig = plot_img(im, DPI)\n",
    "\n",
    "    # Visualize bounding boxes\n",
    "    #for i in range(len(elementX)):\n",
    "    #    plt.fill(elementX[i], elementY[i], color=(0.1, 0.7, 0.7, 0.3))\n",
    "\n",
    "    plot_visualization(x,y,duration)\n",
    "\n",
    "    #plt.title(imname+os.path.basename(subcsv))\n",
    "    outpath = r'C:\\Users\\karth\\Desktop\\Karthik\\HCI_Lab\\massvis\\scripts\\visualization\\Single_visulation'\n",
    "    fig.savefig(('%s/%s.png'%(outpath, imname +'cross')), dpi=DPI)\n",
    "    plt.close()"
   ]
  },
  {
   "cell_type": "code",
   "execution_count": null,
   "metadata": {},
   "outputs": [],
   "source": []
  }
 ],
 "metadata": {
  "interpreter": {
   "hash": "714b78d13348d8ed6011b529d78ad1bf03399f6a4d5cb5d2c0550044b9bc7a4a"
  },
  "kernelspec": {
   "display_name": "Python 3.8.12 64-bit ('Deeplearning': conda)",
   "language": "python",
   "name": "python3"
  },
  "language_info": {
   "codemirror_mode": {
    "name": "ipython",
    "version": 3
   },
   "file_extension": ".py",
   "mimetype": "text/x-python",
   "name": "python",
   "nbconvert_exporter": "python",
   "pygments_lexer": "ipython3",
   "version": "3.8.12"
  },
  "orig_nbformat": 4
 },
 "nbformat": 4,
 "nbformat_minor": 2
}
