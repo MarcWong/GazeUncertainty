{
 "cells": [
  {
   "cell_type": "code",
   "execution_count": 1,
   "metadata": {},
   "outputs": [],
   "source": [
    "import pandas as pd\n",
    "df = pd.read_csv(r'C:\\Users\\karth\\Desktop\\Karthik\\HCI_Lab\\group4\\Visualisation\\Cross_fixations\\dai3_cross_views.csv')"
   ]
  },
  {
   "cell_type": "code",
   "execution_count": 2,
   "metadata": {},
   "outputs": [],
   "source": [
    "names_of_images = df.iloc[:,0].unique()"
   ]
  },
  {
   "cell_type": "code",
   "execution_count": 3,
   "metadata": {},
   "outputs": [
    {
     "data": {
      "text/plain": [
       "['0yflU4o2ze89IvWqYRKGKA==.0.png',\n",
       " 'economist_daily_chart_162.png',\n",
       " 'economist_daily_chart_20.png',\n",
       " 'economist_daily_chart_207.png',\n",
       " 'economist_daily_chart_209.png',\n",
       " 'economist_daily_chart_215.png',\n",
       " 'economist_daily_chart_238.png',\n",
       " 'economist_daily_chart_250.png',\n",
       " 'treasuryA8.png',\n",
       " 'treasuryK04.png',\n",
       " 'whoJ24_2.png',\n",
       " 'whoJ44.png',\n",
       " 'whoL06.png',\n",
       " 'whoN19_1.png',\n",
       " 'whoQ01.png',\n",
       " 'whoQ42_1.png',\n",
       " 'wsj11.png',\n",
       " 'wsj340.png',\n",
       " 'wsj76.png',\n",
       " '_1IiNGPpj1s86KzEjQ93YQ==.0.jpg',\n",
       " 'whoN36.png',\n",
       " 'economist_daily_chart_95.png',\n",
       " '_Fbq9iW1SCuAYaHmYUXAUA==.0.jpg',\n",
       " 'economist_daily_chart_447.png',\n",
       " 'whoK01.png',\n",
       " '8XT9tstaX3P7OjmkeT1xTg==.0.png',\n",
       " 'whoB13_2.png',\n",
       " 'treasuryL02_2.png',\n",
       " 'whoB14_1.png',\n",
       " 'whoQ06_2.png',\n",
       " 'whoL05.png',\n",
       " 'economist_daily_chart_84.png',\n",
       " '1tVCmxZoFO6hq5H_rC0j_w==.0.png',\n",
       " '129462.png',\n",
       " 'economist_daily_chart_384.png',\n",
       " 'economist_daily_chart_225.png',\n",
       " 'wsj320.png',\n",
       " 'economist_daily_chart_235.png',\n",
       " 'treasuryL15_2.png',\n",
       " 'treasuryG01_2.png']"
      ]
     },
     "execution_count": 3,
     "metadata": {},
     "output_type": "execute_result"
    }
   ],
   "source": [
    "#Keep incase of cross over data or else comment it \n",
    "images = [ ]\n",
    "for text in names_of_images:\n",
    "    _ ,imname = text.split('cross_before_')\n",
    "    images.append(imname)\n",
    "\n",
    "images"
   ]
  },
  {
   "cell_type": "code",
   "execution_count": 4,
   "metadata": {},
   "outputs": [],
   "source": [
    "df1 = df"
   ]
  },
  {
   "cell_type": "code",
   "execution_count": 5,
   "metadata": {},
   "outputs": [],
   "source": [
    "data_req = df1.groupby('image_name')#['axp']['ayp']['dur']"
   ]
  },
  {
   "cell_type": "code",
   "execution_count": 6,
   "metadata": {},
   "outputs": [],
   "source": [
    "for name,imname in zip(names_of_images,images): \n",
    "    gp1 = data_req.get_group(name).reset_index().copy()\n",
    "    data = gp1[[\"axp\",\"ayp\",\"dur\"]]\n",
    "    data.to_csv(r'C:\\Users\\karth\\Desktop\\Karthik\\HCI_Lab\\group4\\Visualisation\\Cross_fixations'+ '\\\\' + imname +'.csv')\n"
   ]
  },
  {
   "cell_type": "code",
   "execution_count": 7,
   "metadata": {},
   "outputs": [],
   "source": [
    "data = gp1[[\"axp\",\"ayp\",\"dur\"]]"
   ]
  },
  {
   "cell_type": "code",
   "execution_count": 8,
   "metadata": {},
   "outputs": [
    {
     "data": {
      "text/html": [
       "<div>\n",
       "<style scoped>\n",
       "    .dataframe tbody tr th:only-of-type {\n",
       "        vertical-align: middle;\n",
       "    }\n",
       "\n",
       "    .dataframe tbody tr th {\n",
       "        vertical-align: top;\n",
       "    }\n",
       "\n",
       "    .dataframe thead th {\n",
       "        text-align: right;\n",
       "    }\n",
       "</style>\n",
       "<table border=\"1\" class=\"dataframe\">\n",
       "  <thead>\n",
       "    <tr style=\"text-align: right;\">\n",
       "      <th></th>\n",
       "      <th>axp</th>\n",
       "      <th>ayp</th>\n",
       "      <th>dur</th>\n",
       "    </tr>\n",
       "  </thead>\n",
       "  <tbody>\n",
       "    <tr>\n",
       "      <th>0</th>\n",
       "      <td>1574.2</td>\n",
       "      <td>35.6</td>\n",
       "      <td>672.0</td>\n",
       "    </tr>\n",
       "    <tr>\n",
       "      <th>1</th>\n",
       "      <td>1513.6</td>\n",
       "      <td>56.4</td>\n",
       "      <td>688.0</td>\n",
       "    </tr>\n",
       "    <tr>\n",
       "      <th>2</th>\n",
       "      <td>914.7</td>\n",
       "      <td>424.6</td>\n",
       "      <td>155.0</td>\n",
       "    </tr>\n",
       "    <tr>\n",
       "      <th>3</th>\n",
       "      <td>825.4</td>\n",
       "      <td>419.9</td>\n",
       "      <td>178.0</td>\n",
       "    </tr>\n",
       "    <tr>\n",
       "      <th>4</th>\n",
       "      <td>913.9</td>\n",
       "      <td>522.5</td>\n",
       "      <td>300.0</td>\n",
       "    </tr>\n",
       "  </tbody>\n",
       "</table>\n",
       "</div>"
      ],
      "text/plain": [
       "      axp    ayp    dur\n",
       "0  1574.2   35.6  672.0\n",
       "1  1513.6   56.4  688.0\n",
       "2   914.7  424.6  155.0\n",
       "3   825.4  419.9  178.0\n",
       "4   913.9  522.5  300.0"
      ]
     },
     "execution_count": 8,
     "metadata": {},
     "output_type": "execute_result"
    }
   ],
   "source": [
    "data.head()"
   ]
  },
  {
   "cell_type": "code",
   "execution_count": null,
   "metadata": {},
   "outputs": [],
   "source": []
  }
 ],
 "metadata": {
  "interpreter": {
   "hash": "714b78d13348d8ed6011b529d78ad1bf03399f6a4d5cb5d2c0550044b9bc7a4a"
  },
  "kernelspec": {
   "display_name": "Python 3.8.12 64-bit ('Deeplearning': conda)",
   "language": "python",
   "name": "python3"
  },
  "language_info": {
   "codemirror_mode": {
    "name": "ipython",
    "version": 3
   },
   "file_extension": ".py",
   "mimetype": "text/x-python",
   "name": "python",
   "nbconvert_exporter": "python",
   "pygments_lexer": "ipython3",
   "version": "3.8.12"
  },
  "orig_nbformat": 4
 },
 "nbformat": 4,
 "nbformat_minor": 2
}
